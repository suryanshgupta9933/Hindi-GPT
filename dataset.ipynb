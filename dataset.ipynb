{
 "cells": [
  {
   "cell_type": "code",
   "execution_count": null,
   "metadata": {},
   "outputs": [],
   "source": [
    "from datasets import load_dataset\n",
    "import re"
   ]
  },
  {
   "cell_type": "code",
   "execution_count": null,
   "metadata": {},
   "outputs": [],
   "source": [
    "def clean_text(text):\n",
    "    # Remove non-Hindi characters\n",
    "    text = re.sub(r\"[^ऀ-ॿ\\s]\", \"\", text)\n",
    "    \n",
    "    # Remove extra whitespaces\n",
    "    text = re.sub(r\"\\s+\", \" \", text)\n",
    "    \n",
    "    return text.strip()"
   ]
  },
  {
   "cell_type": "code",
   "execution_count": null,
   "metadata": {},
   "outputs": [],
   "source": [
    "# def clean_text(text):\n",
    "#     # Keep Hindi characters, digits, English alphabets, basic punctuation and whitespace\n",
    "#     text = re.sub(r\"[^ऀ-ॿa-zA-Z0-9\\s.,!?]\", \"\", text)\n",
    "\n",
    "#     # Remove extra whitespaces\n",
    "#     text = re.sub(r\"\\s+\", \" \", text)\n",
    "\n",
    "#     return text.strip()"
   ]
  },
  {
   "cell_type": "code",
   "execution_count": null,
   "metadata": {},
   "outputs": [],
   "source": [
    "dataset = load_dataset(\"oscar-corpus/OSCAR-2201\",\n",
    "                        use_auth_token=True,\n",
    "                        language=\"hi\",\n",
    "                        streaming=True,\n",
    "                        split=\"train\")"
   ]
  },
  {
   "cell_type": "code",
   "execution_count": null,
   "metadata": {},
   "outputs": [],
   "source": [
    "for i, d in enumerate(dataset):\n",
    "    cleaned_text = clean_text(d['text'])\n",
    "    print(cleaned_text)\n",
    "    if i == 10:\n",
    "        break"
   ]
  }
 ],
 "metadata": {
  "kernelspec": {
   "display_name": "gpt",
   "language": "python",
   "name": "python3"
  },
  "language_info": {
   "codemirror_mode": {
    "name": "ipython",
    "version": 3
   },
   "file_extension": ".py",
   "mimetype": "text/x-python",
   "name": "python",
   "nbconvert_exporter": "python",
   "pygments_lexer": "ipython3",
   "version": "3.10.0"
  },
  "orig_nbformat": 4
 },
 "nbformat": 4,
 "nbformat_minor": 2
}
