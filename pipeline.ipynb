{
 "cells": [
  {
   "cell_type": "code",
   "execution_count": 1,
   "metadata": {},
   "outputs": [],
   "source": [
    "# Importing Dependencies\n",
    "from datasets import load_dataset\n",
    "import re\n",
    "\n",
    "from tokenizers import Tokenizer, trainers, pre_tokenizers, decoders, processors\n",
    "from tokenizers.models import BPE\n",
    "from tokenizers.normalizers import Lowercase, NFKC, Sequence\n",
    "from tokenizers.pre_tokenizers import ByteLevel"
   ]
  },
  {
   "cell_type": "code",
   "execution_count": 3,
   "metadata": {},
   "outputs": [],
   "source": [
    "# Loading the dataset\n",
    "dataset = load_dataset(\"oscar-corpus/OSCAR-2201\",\n",
    "                        use_auth_token=True,\n",
    "                        language=\"hi\",\n",
    "                        streaming=True,\n",
    "                        split=\"train\")"
   ]
  },
  {
   "cell_type": "code",
   "execution_count": 2,
   "metadata": {},
   "outputs": [],
   "source": [
    "# Cleaning Function\n",
    "def clean_text(text):\n",
    "    # Remove non-Hindi characters\n",
    "    text = re.sub(r\"[^ऀ-ॿ\\s]\", \"\", text)\n",
    "    # Remove extra whitespaces\n",
    "    text = re.sub(r\"\\s+\", \" \", text)\n",
    "    return text.strip()"
   ]
  },
  {
   "cell_type": "code",
   "execution_count": 4,
   "metadata": {},
   "outputs": [],
   "source": [
    "# Clean the dataset and make a generator\n",
    "def cleaned_dataset_generator(dataset):\n",
    "    for d in dataset:\n",
    "        yield clean_text(d['text'])"
   ]
  },
  {
   "cell_type": "code",
   "execution_count": 5,
   "metadata": {},
   "outputs": [],
   "source": [
    "cleaned_dataset = cleaned_dataset_generator(dataset)"
   ]
  },
  {
   "cell_type": "code",
   "execution_count": 6,
   "metadata": {},
   "outputs": [],
   "source": [
    "# Creating the tokenizer\n",
    "tokenizer = Tokenizer(BPE())\n",
    "\n",
    "# Initialize a pre-tokenizer\n",
    "tokenizer.pre_tokenizer = pre_tokenizers.Sequence([\n",
    "    ByteLevel()\n",
    "])\n",
    "\n",
    "# Initialize a normalizer\n",
    "tokenizer.normalizer = Sequence([\n",
    "    NFKC(),\n",
    "    Lowercase()\n",
    "])\n",
    "\n",
    "# Initialize a decoder\n",
    "tokenizer.decoder = decoders.ByteLevel()\n",
    "\n",
    "# Initialize a post-processor\n",
    "tokenizer.post_processor = processors.ByteLevel(trim_offsets=False)\n",
    "\n",
    "# Initialize a trainer\n",
    "trainer = trainers.BpeTrainer(vocab_size=50000, min_frequency=2, special_tokens=[\n",
    "    \"<s>\",\n",
    "    \"<pad>\",\n",
    "    \"</s>\",\n",
    "    \"<unk>\",\n",
    "    \"<mask>\",\n",
    "])"
   ]
  },
  {
   "cell_type": "code",
   "execution_count": 7,
   "metadata": {},
   "outputs": [],
   "source": [
    "# Train the tokenizer\n",
    "tokenizer.train_from_iterator(cleaned_dataset, trainer)"
   ]
  },
  {
   "cell_type": "code",
   "execution_count": null,
   "metadata": {},
   "outputs": [],
   "source": [
    "# Saving the tokenizer\n",
    "tokenizer.save(\"bpe_hindi.json\")"
   ]
  }
 ],
 "metadata": {
  "kernelspec": {
   "display_name": "gpt",
   "language": "python",
   "name": "python3"
  },
  "language_info": {
   "codemirror_mode": {
    "name": "ipython",
    "version": 3
   },
   "file_extension": ".py",
   "mimetype": "text/x-python",
   "name": "python",
   "nbconvert_exporter": "python",
   "pygments_lexer": "ipython3",
   "version": "3.10.0"
  },
  "orig_nbformat": 4
 },
 "nbformat": 4,
 "nbformat_minor": 2
}
